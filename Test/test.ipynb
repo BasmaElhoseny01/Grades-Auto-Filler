{
 "cells": [
  {
   "cell_type": "code",
   "execution_count": 1,
   "id": "7db733bc",
   "metadata": {
    "scrolled": true
   },
   "outputs": [],
   "source": [
    "from utils import *\n",
    "from commonfunctions import *"
   ]
  },
  {
   "cell_type": "code",
   "execution_count": 2,
   "id": "fb423702",
   "metadata": {
    "scrolled": true
   },
   "outputs": [],
   "source": [
    "def Table_Extraction(path):\n",
    "    # Read Image\n",
    "    Gray_Scale_img=Read_GrayScale_Image(path)\n",
    "    # Gray_Scale_img=rgb2gray(Original_img)\n",
    "\n",
    "    # Show_Images([Original_img],['Original'])\n",
    "    show_images([Gray_Scale_img],['GrayScale'])\n",
    "    \n",
    "    # Step 1 Enhance lines of the image\n",
    "    #1.Guassian to blur image \n",
    "    kernel_size=max(int(Gray_Scale_img.shape[0] * 0.005), int(Gray_Scale_img.shape[1] * 0.005))\n",
    "    # Kernel must have odd values because of GaussianBlur\n",
    "    if kernel_size % 2 == 0:\n",
    "        kernel_size += 1\n",
    "    kernel=(kernel_size,kernel_size) #filter size\n",
    "    Gaussian_Img=cv.GaussianBlur(Gray_Scale_img,kernel,1)\n",
    "    print(np.shape(Gaussian_Img))\n",
    "    \n",
    "    #2.Adpative Thresholding\n",
    "    # If we tried to use Normal Thresholding =>Global Thresholding Regions Black so use like local thershold for every region depending on its neigh\n",
    "    Thresholded_Img = cv.adaptiveThreshold(Gaussian_Img, 255,cv.ADAPTIVE_THRESH_MEAN_C, cv.THRESH_BINARY_INV, 21, 10)\n",
    "    #3.La Placian\n",
    "    laplacian = cv.Laplacian(Thresholded_Img, cv.CV_64F)\n",
    "    # Convert data type from 64f to unsigned 8-bit integer\n",
    "    laplacian = np.uint8(np.absolute(laplacian))\n",
    "#     show_images([Gray_Scale_img,Gaussian_Img],['Gray Scale Imge','Guassian Sigma=1'])\n",
    "#     show_images([Thresholded_Img,laplacian],['Thersholded Img','La Placian'])\n",
    "    \n",
    "    # Extract Table Region\n",
    "    #Table takes most of the Region so Extract table by finding largest countor with 4 sides\n",
    "\n",
    "    #1.Find Largest rectangle in the image\n",
    "    # FIND CONTOUR\n",
    "    contours, _ = cv.findContours(laplacian, cv.RETR_CCOMP, cv.CHAIN_APPROX_SIMPLE)\n",
    "    #Identifying Contour with largest 4 sides\n",
    "    table_contour, table_contour_approx = findLargestQuadrilateralContour(contours)\n",
    "    if table_contour[0] is None:\n",
    "        raise ValueError(\"No table detected.\")\n",
    "    print(table_contour_approx)\n",
    "    \n",
    "    # Sort points in clocwise order, compute table width and height\n",
    "    table_pts, table_width, table_height =processContour(table_contour_approx[0])\\\n",
    "    \n",
    "    #2.\n",
    "    # EXTRACT TABLE REGION\n",
    "    # Start with a full black image\n",
    "    mask = np.zeros(Gray_Scale_img.shape).astype(Gray_Scale_img.dtype)\n",
    "    # Create a mask for the table region\n",
    "    cv.fillPoly(mask, table_contour, (255, 255, 255))\n",
    "    \n",
    "    # Apply the mask to the thresholded image, filling the region\n",
    "    # outside of the table with white\n",
    "    Extracted_table = cv.bitwise_and(Gray_Scale_img, mask)\n",
    "    show_images([mask,Extracted_table],['Mask','Extracted_table'])\n",
    "    return Extracted_table\n",
    "    \n",
    "    \n",
    "    \n",
    "    #perspective transform"
   ]
  },
  {
   "cell_type": "code",
   "execution_count": 3,
   "id": "049da479",
   "metadata": {
    "scrolled": false
   },
   "outputs": [
    {
     "ename": "NameError",
     "evalue": "name 'Read_GrayScale_Image' is not defined",
     "output_type": "error",
     "traceback": [
      "\u001b[1;31m---------------------------------------------------------------------------\u001b[0m",
      "\u001b[1;31mNameError\u001b[0m                                 Traceback (most recent call last)",
      "Input \u001b[1;32mIn [3]\u001b[0m, in \u001b[0;36m<cell line: 1>\u001b[1;34m()\u001b[0m\n\u001b[1;32m----> 1\u001b[0m \u001b[43mTable_Extraction\u001b[49m\u001b[43m(\u001b[49m\u001b[38;5;124;43m'\u001b[39;49m\u001b[38;5;124;43m./grade sheet/1.jpg\u001b[39;49m\u001b[38;5;124;43m'\u001b[39;49m\u001b[43m)\u001b[49m\n\u001b[0;32m      2\u001b[0m Table_Extraction(Table_Extraction(\u001b[38;5;124m'\u001b[39m\u001b[38;5;124m./grade sheet/1.jpg\u001b[39m\u001b[38;5;124m'\u001b[39m))\n\u001b[0;32m      3\u001b[0m Table_Extraction(\u001b[38;5;124m'\u001b[39m\u001b[38;5;124m./grade sheet/5.jpg\u001b[39m\u001b[38;5;124m'\u001b[39m)\n",
      "Input \u001b[1;32mIn [2]\u001b[0m, in \u001b[0;36mTable_Extraction\u001b[1;34m(path)\u001b[0m\n\u001b[0;32m      1\u001b[0m \u001b[38;5;28;01mdef\u001b[39;00m \u001b[38;5;21mTable_Extraction\u001b[39m(path):\n\u001b[0;32m      2\u001b[0m     \u001b[38;5;66;03m# Read Image\u001b[39;00m\n\u001b[1;32m----> 3\u001b[0m     Gray_Scale_img\u001b[38;5;241m=\u001b[39m\u001b[43mRead_GrayScale_Image\u001b[49m(path)\n\u001b[0;32m      4\u001b[0m     \u001b[38;5;66;03m# Gray_Scale_img=rgb2gray(Original_img)\u001b[39;00m\n\u001b[0;32m      5\u001b[0m \n\u001b[0;32m      6\u001b[0m     \u001b[38;5;66;03m# Show_Images([Original_img],['Original'])\u001b[39;00m\n\u001b[0;32m      7\u001b[0m     show_images([Gray_Scale_img],[\u001b[38;5;124m'\u001b[39m\u001b[38;5;124mGrayScale\u001b[39m\u001b[38;5;124m'\u001b[39m])\n",
      "\u001b[1;31mNameError\u001b[0m: name 'Read_GrayScale_Image' is not defined"
     ]
    }
   ],
   "source": [
    "\n",
    "Table_Extraction('./grade sheet/1.jpg')\n",
    "Table_Extraction(Table_Extraction('./grade sheet/1.jpg'))\n",
    "Table_Extraction('./grade sheet/5.jpg')\n",
    "Table_Extraction(Table_Extraction('./grade sheet/5.jpg'))\n",
    "Table_Extraction('./grade sheet/6.jpg')\n",
    "Table_Extraction(Table_Extraction('./grade sheet/6.jpg'))\n",
    "\n",
    "# Table_Extraction('./grade sheet/2.jpg')\n",
    "# Table_Extraction('./grade sheet/3.jpg')\n",
    "# Table_Extraction('./grade sheet/4.jpg')\n",
    "# Table_Extraction('./grade sheet/5.jpg')\n",
    "# Table_Extraction('./grade sheet/6.jpg')\n",
    "# Table_Extraction('./grade sheet/7.jpg')\n",
    "# Table_Extraction('./grade sheet/8.jpg')\n",
    "# Table_Extraction('./grade sheet/9.jpg')\n",
    "# Table_Extraction('./grade sheet/10.jpg')\n",
    "# Table_Extraction('./grade sheet/11.jpg')\n",
    "# Table_Extraction('./grade sheet/12.jpg')\n",
    "# Table_Extraction('./grade sheet/13.jpg')\n",
    "# Table_Extraction('./grade sheet/14.jpg')\n",
    "# Table_Extraction('./grade sheet/15.jpg')\n",
    "\n"
   ]
  },
  {
   "cell_type": "code",
   "execution_count": 16,
   "id": "578dfd45",
   "metadata": {
    "scrolled": false
   },
   "outputs": [],
   "source": [
    "\n",
    "# Table_Extraction('./grade sheet/gradesheet/1.jpg')\n",
    "# Table_Extraction('./grade sheet/gradesheet/2.jpg')\n",
    "# Table_Extraction('./grade sheet/gradesheet/3.jpg')\n",
    "# Table_Extraction('./grade sheet/gradesheet/4.jpg')\n",
    "# Table_Extraction('./grade sheet/gradesheet/5.jpg')\n",
    "# Table_Extraction('./grade sheet/gradesheet/6.jpg')\n",
    "# Table_Extraction('./grade sheet/gradesheet/7.jpg')\n",
    "# Table_Extraction('./grade sheet/gradesheet/8.jpg')"
   ]
  },
  {
   "cell_type": "code",
   "execution_count": null,
   "id": "b5dd75ea",
   "metadata": {},
   "outputs": [],
   "source": []
  }
 ],
 "metadata": {
  "kernelspec": {
   "display_name": "Python 3 (ipykernel)",
   "language": "python",
   "name": "python3"
  },
  "language_info": {
   "codemirror_mode": {
    "name": "ipython",
    "version": 3
   },
   "file_extension": ".py",
   "mimetype": "text/x-python",
   "name": "python",
   "nbconvert_exporter": "python",
   "pygments_lexer": "ipython3",
   "version": "3.9.12"
  }
 },
 "nbformat": 4,
 "nbformat_minor": 5
}
